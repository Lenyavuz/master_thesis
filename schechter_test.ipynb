{
 "cells": [
  {
   "cell_type": "code",
   "execution_count": 2,
   "id": "5edcfb94",
   "metadata": {},
   "outputs": [],
   "source": [
    "import scipy as sp\n",
    "import numpy as np\n",
    "import matplotlib.pyplot as plt\n",
    "import astropy as ap\n",
    "import pandas as pd\n",
    "import astropy.cosmology as apc\n",
    "import astropy.units as u\n",
    "from astropy.cosmology import FlatLambdaCDM\n",
    "\n",
    "cosmo = FlatLambdaCDM(H0=100, Om0=0.3, Tcmb0=2.725) #std cosmo for that analysis"
   ]
  },
  {
   "cell_type": "markdown",
   "id": "cf4cf910",
   "metadata": {},
   "source": [
    "Data loading"
   ]
  },
  {
   "cell_type": "code",
   "execution_count": 3,
   "id": "837936ae",
   "metadata": {},
   "outputs": [],
   "source": [
    "dfres = pd.read_csv('SDSS_DR8-test_results-w_size.csv')"
   ]
  },
  {
   "cell_type": "code",
   "execution_count": 4,
   "id": "4e794483",
   "metadata": {},
   "outputs": [],
   "source": [
    "dfsch = dfres[dfres['M_prodK_r'] < 30]\n",
    "eventno = len(dfsch)"
   ]
  },
  {
   "cell_type": "code",
   "execution_count": 55,
   "id": "e12fee74",
   "metadata": {},
   "outputs": [
    {
     "data": {
      "text/plain": [
       "Index(['Unnamed: 0', 'redshift', 'redshift_err', 'K_u', 'K_g', 'K_r', 'K_i',\n",
       "       'K_z', 'SM_prod', 'M_prodK_u', 'M_prodK_g', 'M_prodK_r', 'M_prodK_i',\n",
       "       'M_prodK_z', 'M_prodYC_u', 'M_prodYC_g', 'M_prodYC_r', 'M_prodYC_i',\n",
       "       'M_prodYC_z', 'M_prod_err_u', 'M_prod_err_g', 'M_prod_err_r',\n",
       "       'M_prod_err_i', 'M_prod_err_z', 'size_deg^2_u', 'size_deg^2_g',\n",
       "       'size_deg^2_r', 'size_deg^2_i', 'size_deg^2_z'],\n",
       "      dtype='object')"
      ]
     },
     "execution_count": 55,
     "metadata": {},
     "output_type": "execute_result"
    }
   ],
   "source": [
    "dfsch.columns"
   ]
  },
  {
   "cell_type": "code",
   "execution_count": 7,
   "id": "96a6da9c",
   "metadata": {},
   "outputs": [
    {
     "data": {
      "text/html": [
       "<div>\n",
       "<style scoped>\n",
       "    .dataframe tbody tr th:only-of-type {\n",
       "        vertical-align: middle;\n",
       "    }\n",
       "\n",
       "    .dataframe tbody tr th {\n",
       "        vertical-align: top;\n",
       "    }\n",
       "\n",
       "    .dataframe thead th {\n",
       "        text-align: right;\n",
       "    }\n",
       "</style>\n",
       "<table border=\"1\" class=\"dataframe\">\n",
       "  <thead>\n",
       "    <tr style=\"text-align: right;\">\n",
       "      <th></th>\n",
       "      <th>redshift</th>\n",
       "      <th>redshift_err</th>\n",
       "      <th>K_u</th>\n",
       "      <th>K_g</th>\n",
       "      <th>K_r</th>\n",
       "      <th>K_i</th>\n",
       "      <th>K_z</th>\n",
       "      <th>SM_prod</th>\n",
       "      <th>M_prodK_u</th>\n",
       "      <th>M_prodK_g</th>\n",
       "      <th>...</th>\n",
       "      <th>M_prod_err_u</th>\n",
       "      <th>M_prod_err_g</th>\n",
       "      <th>M_prod_err_r</th>\n",
       "      <th>M_prod_err_i</th>\n",
       "      <th>M_prod_err_z</th>\n",
       "      <th>size_deg^2_u</th>\n",
       "      <th>size_deg^2_g</th>\n",
       "      <th>size_deg^2_r</th>\n",
       "      <th>size_deg^2_i</th>\n",
       "      <th>size_deg^2_z</th>\n",
       "    </tr>\n",
       "  </thead>\n",
       "  <tbody>\n",
       "    <tr>\n",
       "      <th>0</th>\n",
       "      <td>0.021222</td>\n",
       "      <td>0.000009</td>\n",
       "      <td>0.047298</td>\n",
       "      <td>0.052880</td>\n",
       "      <td>0.022433</td>\n",
       "      <td>0.019207</td>\n",
       "      <td>0.011651</td>\n",
       "      <td>7.134254e+09</td>\n",
       "      <td>-17.052635</td>\n",
       "      <td>-18.491493</td>\n",
       "      <td>...</td>\n",
       "      <td>0.021049</td>\n",
       "      <td>0.009506</td>\n",
       "      <td>0.008200</td>\n",
       "      <td>0.008240</td>\n",
       "      <td>0.009066</td>\n",
       "      <td>5.232134e-06</td>\n",
       "      <td>4.208064e-06</td>\n",
       "      <td>3.567301e-06</td>\n",
       "      <td>3.383107e-06</td>\n",
       "      <td>3.160064e-06</td>\n",
       "    </tr>\n",
       "    <tr>\n",
       "      <th>1</th>\n",
       "      <td>0.203783</td>\n",
       "      <td>0.000039</td>\n",
       "      <td>1.031316</td>\n",
       "      <td>0.852069</td>\n",
       "      <td>0.353013</td>\n",
       "      <td>0.219065</td>\n",
       "      <td>0.190587</td>\n",
       "      <td>7.867554e+10</td>\n",
       "      <td>-19.544447</td>\n",
       "      <td>-20.846760</td>\n",
       "      <td>...</td>\n",
       "      <td>0.338067</td>\n",
       "      <td>0.038781</td>\n",
       "      <td>0.019720</td>\n",
       "      <td>0.017944</td>\n",
       "      <td>0.037734</td>\n",
       "      <td>4.921030e-07</td>\n",
       "      <td>1.649814e-06</td>\n",
       "      <td>1.590417e-06</td>\n",
       "      <td>1.811403e-06</td>\n",
       "      <td>1.596842e-06</td>\n",
       "    </tr>\n",
       "    <tr>\n",
       "      <th>2</th>\n",
       "      <td>0.064656</td>\n",
       "      <td>0.000021</td>\n",
       "      <td>0.256597</td>\n",
       "      <td>0.183809</td>\n",
       "      <td>0.093724</td>\n",
       "      <td>0.048180</td>\n",
       "      <td>0.048652</td>\n",
       "      <td>1.179627e+10</td>\n",
       "      <td>-17.146599</td>\n",
       "      <td>-19.016478</td>\n",
       "      <td>...</td>\n",
       "      <td>0.151552</td>\n",
       "      <td>0.029465</td>\n",
       "      <td>0.023199</td>\n",
       "      <td>0.018723</td>\n",
       "      <td>0.033425</td>\n",
       "      <td>1.494239e-06</td>\n",
       "      <td>2.330229e-06</td>\n",
       "      <td>2.234396e-06</td>\n",
       "      <td>2.036128e-06</td>\n",
       "      <td>1.898811e-06</td>\n",
       "    </tr>\n",
       "    <tr>\n",
       "      <th>3</th>\n",
       "      <td>0.052654</td>\n",
       "      <td>0.000009</td>\n",
       "      <td>0.108681</td>\n",
       "      <td>0.067902</td>\n",
       "      <td>0.076946</td>\n",
       "      <td>-0.025720</td>\n",
       "      <td>0.007636</td>\n",
       "      <td>2.023482e+09</td>\n",
       "      <td>-16.751179</td>\n",
       "      <td>-17.758923</td>\n",
       "      <td>...</td>\n",
       "      <td>0.101995</td>\n",
       "      <td>0.021644</td>\n",
       "      <td>0.017898</td>\n",
       "      <td>0.022081</td>\n",
       "      <td>0.086389</td>\n",
       "      <td>1.614350e-06</td>\n",
       "      <td>1.790529e-06</td>\n",
       "      <td>1.756805e-06</td>\n",
       "      <td>1.648380e-06</td>\n",
       "      <td>1.858579e-06</td>\n",
       "    </tr>\n",
       "    <tr>\n",
       "      <th>4</th>\n",
       "      <td>0.213861</td>\n",
       "      <td>0.000040</td>\n",
       "      <td>0.578419</td>\n",
       "      <td>0.555378</td>\n",
       "      <td>0.181407</td>\n",
       "      <td>-0.003530</td>\n",
       "      <td>0.035320</td>\n",
       "      <td>5.283135e+10</td>\n",
       "      <td>-20.109484</td>\n",
       "      <td>-21.237499</td>\n",
       "      <td>...</td>\n",
       "      <td>0.221153</td>\n",
       "      <td>0.041169</td>\n",
       "      <td>0.018303</td>\n",
       "      <td>0.026716</td>\n",
       "      <td>0.097975</td>\n",
       "      <td>2.506898e-05</td>\n",
       "      <td>4.417424e-06</td>\n",
       "      <td>4.217808e-06</td>\n",
       "      <td>2.924890e-06</td>\n",
       "      <td>3.745768e-06</td>\n",
       "    </tr>\n",
       "    <tr>\n",
       "      <th>...</th>\n",
       "      <td>...</td>\n",
       "      <td>...</td>\n",
       "      <td>...</td>\n",
       "      <td>...</td>\n",
       "      <td>...</td>\n",
       "      <td>...</td>\n",
       "      <td>...</td>\n",
       "      <td>...</td>\n",
       "      <td>...</td>\n",
       "      <td>...</td>\n",
       "      <td>...</td>\n",
       "      <td>...</td>\n",
       "      <td>...</td>\n",
       "      <td>...</td>\n",
       "      <td>...</td>\n",
       "      <td>...</td>\n",
       "      <td>...</td>\n",
       "      <td>...</td>\n",
       "      <td>...</td>\n",
       "      <td>...</td>\n",
       "      <td>...</td>\n",
       "    </tr>\n",
       "    <tr>\n",
       "      <th>983</th>\n",
       "      <td>0.090230</td>\n",
       "      <td>0.000017</td>\n",
       "      <td>0.361788</td>\n",
       "      <td>0.239026</td>\n",
       "      <td>0.146256</td>\n",
       "      <td>0.051511</td>\n",
       "      <td>0.072235</td>\n",
       "      <td>9.041529e+09</td>\n",
       "      <td>-16.907824</td>\n",
       "      <td>-18.918074</td>\n",
       "      <td>...</td>\n",
       "      <td>0.160217</td>\n",
       "      <td>0.030442</td>\n",
       "      <td>0.027513</td>\n",
       "      <td>0.027446</td>\n",
       "      <td>0.041152</td>\n",
       "      <td>1.975417e-07</td>\n",
       "      <td>2.239458e-07</td>\n",
       "      <td>1.861271e-07</td>\n",
       "      <td>1.870505e-07</td>\n",
       "      <td>1.996163e-07</td>\n",
       "    </tr>\n",
       "    <tr>\n",
       "      <th>984</th>\n",
       "      <td>0.088275</td>\n",
       "      <td>0.000010</td>\n",
       "      <td>0.199206</td>\n",
       "      <td>0.247244</td>\n",
       "      <td>0.143307</td>\n",
       "      <td>0.081097</td>\n",
       "      <td>0.081009</td>\n",
       "      <td>1.073396e+10</td>\n",
       "      <td>-17.485369</td>\n",
       "      <td>-18.867878</td>\n",
       "      <td>...</td>\n",
       "      <td>0.118914</td>\n",
       "      <td>0.018625</td>\n",
       "      <td>0.011732</td>\n",
       "      <td>0.013068</td>\n",
       "      <td>0.033533</td>\n",
       "      <td>2.004318e-06</td>\n",
       "      <td>9.305619e-07</td>\n",
       "      <td>8.886508e-07</td>\n",
       "      <td>8.344675e-07</td>\n",
       "      <td>8.620519e-07</td>\n",
       "    </tr>\n",
       "    <tr>\n",
       "      <th>985</th>\n",
       "      <td>0.087724</td>\n",
       "      <td>0.000013</td>\n",
       "      <td>0.123764</td>\n",
       "      <td>0.122915</td>\n",
       "      <td>0.127540</td>\n",
       "      <td>-0.041253</td>\n",
       "      <td>0.044294</td>\n",
       "      <td>6.339463e+09</td>\n",
       "      <td>-18.085421</td>\n",
       "      <td>-19.044889</td>\n",
       "      <td>...</td>\n",
       "      <td>0.126709</td>\n",
       "      <td>0.021362</td>\n",
       "      <td>0.020334</td>\n",
       "      <td>0.022185</td>\n",
       "      <td>0.078215</td>\n",
       "      <td>2.505836e-05</td>\n",
       "      <td>2.585626e-06</td>\n",
       "      <td>2.134319e-06</td>\n",
       "      <td>2.261937e-06</td>\n",
       "      <td>2.402056e-06</td>\n",
       "    </tr>\n",
       "    <tr>\n",
       "      <th>986</th>\n",
       "      <td>0.091469</td>\n",
       "      <td>0.000010</td>\n",
       "      <td>0.267828</td>\n",
       "      <td>0.243748</td>\n",
       "      <td>0.144351</td>\n",
       "      <td>0.063612</td>\n",
       "      <td>0.074052</td>\n",
       "      <td>1.107819e+10</td>\n",
       "      <td>-17.611622</td>\n",
       "      <td>-19.025391</td>\n",
       "      <td>...</td>\n",
       "      <td>0.122412</td>\n",
       "      <td>0.018510</td>\n",
       "      <td>0.013045</td>\n",
       "      <td>0.013960</td>\n",
       "      <td>0.035592</td>\n",
       "      <td>1.330652e-06</td>\n",
       "      <td>1.068416e-06</td>\n",
       "      <td>9.437712e-07</td>\n",
       "      <td>8.438076e-07</td>\n",
       "      <td>7.873368e-07</td>\n",
       "    </tr>\n",
       "    <tr>\n",
       "      <th>987</th>\n",
       "      <td>0.091266</td>\n",
       "      <td>0.000006</td>\n",
       "      <td>0.234106</td>\n",
       "      <td>0.078734</td>\n",
       "      <td>0.110054</td>\n",
       "      <td>-0.159669</td>\n",
       "      <td>-0.015021</td>\n",
       "      <td>2.253632e+09</td>\n",
       "      <td>-18.282185</td>\n",
       "      <td>-19.283047</td>\n",
       "      <td>...</td>\n",
       "      <td>0.111353</td>\n",
       "      <td>0.017867</td>\n",
       "      <td>0.019714</td>\n",
       "      <td>0.022624</td>\n",
       "      <td>0.097527</td>\n",
       "      <td>1.174217e-06</td>\n",
       "      <td>1.480999e-06</td>\n",
       "      <td>1.676994e-06</td>\n",
       "      <td>1.487775e-06</td>\n",
       "      <td>1.654722e-06</td>\n",
       "    </tr>\n",
       "  </tbody>\n",
       "</table>\n",
       "<p>988 rows × 28 columns</p>\n",
       "</div>"
      ],
      "text/plain": [
       "     redshift  redshift_err       K_u       K_g       K_r       K_i       K_z  \\\n",
       "0    0.021222      0.000009  0.047298  0.052880  0.022433  0.019207  0.011651   \n",
       "1    0.203783      0.000039  1.031316  0.852069  0.353013  0.219065  0.190587   \n",
       "2    0.064656      0.000021  0.256597  0.183809  0.093724  0.048180  0.048652   \n",
       "3    0.052654      0.000009  0.108681  0.067902  0.076946 -0.025720  0.007636   \n",
       "4    0.213861      0.000040  0.578419  0.555378  0.181407 -0.003530  0.035320   \n",
       "..        ...           ...       ...       ...       ...       ...       ...   \n",
       "983  0.090230      0.000017  0.361788  0.239026  0.146256  0.051511  0.072235   \n",
       "984  0.088275      0.000010  0.199206  0.247244  0.143307  0.081097  0.081009   \n",
       "985  0.087724      0.000013  0.123764  0.122915  0.127540 -0.041253  0.044294   \n",
       "986  0.091469      0.000010  0.267828  0.243748  0.144351  0.063612  0.074052   \n",
       "987  0.091266      0.000006  0.234106  0.078734  0.110054 -0.159669 -0.015021   \n",
       "\n",
       "          SM_prod  M_prodK_u  M_prodK_g  ...  M_prod_err_u  M_prod_err_g  \\\n",
       "0    7.134254e+09 -17.052635 -18.491493  ...      0.021049      0.009506   \n",
       "1    7.867554e+10 -19.544447 -20.846760  ...      0.338067      0.038781   \n",
       "2    1.179627e+10 -17.146599 -19.016478  ...      0.151552      0.029465   \n",
       "3    2.023482e+09 -16.751179 -17.758923  ...      0.101995      0.021644   \n",
       "4    5.283135e+10 -20.109484 -21.237499  ...      0.221153      0.041169   \n",
       "..            ...        ...        ...  ...           ...           ...   \n",
       "983  9.041529e+09 -16.907824 -18.918074  ...      0.160217      0.030442   \n",
       "984  1.073396e+10 -17.485369 -18.867878  ...      0.118914      0.018625   \n",
       "985  6.339463e+09 -18.085421 -19.044889  ...      0.126709      0.021362   \n",
       "986  1.107819e+10 -17.611622 -19.025391  ...      0.122412      0.018510   \n",
       "987  2.253632e+09 -18.282185 -19.283047  ...      0.111353      0.017867   \n",
       "\n",
       "     M_prod_err_r  M_prod_err_i  M_prod_err_z  size_deg^2_u  size_deg^2_g  \\\n",
       "0        0.008200      0.008240      0.009066  5.232134e-06  4.208064e-06   \n",
       "1        0.019720      0.017944      0.037734  4.921030e-07  1.649814e-06   \n",
       "2        0.023199      0.018723      0.033425  1.494239e-06  2.330229e-06   \n",
       "3        0.017898      0.022081      0.086389  1.614350e-06  1.790529e-06   \n",
       "4        0.018303      0.026716      0.097975  2.506898e-05  4.417424e-06   \n",
       "..            ...           ...           ...           ...           ...   \n",
       "983      0.027513      0.027446      0.041152  1.975417e-07  2.239458e-07   \n",
       "984      0.011732      0.013068      0.033533  2.004318e-06  9.305619e-07   \n",
       "985      0.020334      0.022185      0.078215  2.505836e-05  2.585626e-06   \n",
       "986      0.013045      0.013960      0.035592  1.330652e-06  1.068416e-06   \n",
       "987      0.019714      0.022624      0.097527  1.174217e-06  1.480999e-06   \n",
       "\n",
       "     size_deg^2_r  size_deg^2_i  size_deg^2_z  \n",
       "0    3.567301e-06  3.383107e-06  3.160064e-06  \n",
       "1    1.590417e-06  1.811403e-06  1.596842e-06  \n",
       "2    2.234396e-06  2.036128e-06  1.898811e-06  \n",
       "3    1.756805e-06  1.648380e-06  1.858579e-06  \n",
       "4    4.217808e-06  2.924890e-06  3.745768e-06  \n",
       "..            ...           ...           ...  \n",
       "983  1.861271e-07  1.870505e-07  1.996163e-07  \n",
       "984  8.886508e-07  8.344675e-07  8.620519e-07  \n",
       "985  2.134319e-06  2.261937e-06  2.402056e-06  \n",
       "986  9.437712e-07  8.438076e-07  7.873368e-07  \n",
       "987  1.676994e-06  1.487775e-06  1.654722e-06  \n",
       "\n",
       "[988 rows x 28 columns]"
      ]
     },
     "execution_count": 7,
     "metadata": {},
     "output_type": "execute_result"
    }
   ],
   "source": [
    "dfres.iloc[:,1:]"
   ]
  },
  {
   "cell_type": "code",
   "execution_count": 74,
   "id": "2243ee70",
   "metadata": {},
   "outputs": [],
   "source": [
    "sch_c = 3*10**5 * u.km/u.s\n",
    "schMr = dfsch['M_prodK_r']\n",
    "schMr_err = dfsch['M_prod_err_r']\n",
    "schMr_l = schMr.min()\n",
    "schMr_u = schMr.max()\n",
    "\n",
    "sch_z = dfsch['redshift']\n",
    "sch_z_err = dfsch['redshift_err']\n",
    "sch_z_maxx = sch_z.max()\n",
    "sch_z_max = np.array(sch_z + sch_z_err)\n",
    "sch_z_min = np.array(sch_z - sch_z_err)\n",
    "\n",
    "schsize = dfsch['size_deg^2_r']\n",
    "\n",
    "sch_L = np.exp(-0.4*schMr)\n",
    "#E_func = np.sqrt(cosmo.Ode0 + cosmo.Ok0 * (1+sch_z)**2 + cosmo.Om0 * (1+sch_z)**3)\n",
    "sch_dl = cosmo.luminosity_distance(sch_z)"
   ]
  },
  {
   "cell_type": "markdown",
   "id": "5630b7f9",
   "metadata": {},
   "source": [
    "Visualizing absmag values"
   ]
  },
  {
   "cell_type": "code",
   "execution_count": 154,
   "id": "fae662d0",
   "metadata": {},
   "outputs": [
    {
     "data": {
      "image/png": "[encoded data removed]",
      "text/plain": [
       "<Figure size 640x480 with 1 Axes>"
      ]
     },
     "metadata": {},
     "output_type": "display_data"
    }
   ],
   "source": [
    "histM = plt.hist(schMr,bins=np.linspace(-25,-10,120))"
   ]
  },
  {
   "cell_type": "markdown",
   "id": "c8d36438",
   "metadata": {},
   "source": [
    "Defining the the comoving volume function (Eales 1993)"
   ]
  },
  {
   "cell_type": "code",
   "execution_count": 125,
   "id": "10d320f2",
   "metadata": {},
   "outputs": [],
   "source": [
    "def V(x):\n",
    "    return ((1+x)**2 * np.sqrt(cosmo.Ode0 + cosmo.Om0 * (1+x)**3))**(-1)"
   ]
  },
  {
   "cell_type": "code",
   "execution_count": 131,
   "id": "767ade05",
   "metadata": {},
   "outputs": [],
   "source": [
    "integ,_ = sp.integrate.quad(lambda x:V(x), 0.001,sch_z_maxx)"
   ]
  },
  {
   "cell_type": "code",
   "execution_count": null,
   "id": "5b19800a",
   "metadata": {},
   "outputs": [],
   "source": [
    "V_max = schsize*sch_c*sch_dl**2/cosmo.H0 * integ    # defining Vmax\n",
    "V_inv = V_max**-1                                   # reaching the final state -> 1/Vmax"
   ]
  },
  {
   "cell_type": "code",
   "execution_count": 146,
   "id": "6fbc70d0",
   "metadata": {},
   "outputs": [
    {
     "data": {
      "image/png": "[encoded data removed]",
      "text/plain": [
       "<Figure size 640x480 with 1 Axes>"
      ]
     },
     "metadata": {},
     "output_type": "display_data"
    }
   ],
   "source": [
    "c, e = np.histogram(V_inv,bins=np.linspace(0,0.15,120))\n",
    "histV = plt.hist(V_inv,bins=np.linspace(0,0.15,120))"
   ]
  },
  {
   "cell_type": "code",
   "execution_count": 153,
   "id": "8c762f3d",
   "metadata": {},
   "outputs": [],
   "source": [
    "counts, edges = np.histogram(schMr, bins=np.linspace(-25,-12,120))"
   ]
  },
  {
   "cell_type": "markdown",
   "id": "29b4834b",
   "metadata": {},
   "source": [
    "Defining the luminosity function"
   ]
  },
  {
   "cell_type": "code",
   "execution_count": 62,
   "id": "20745e71",
   "metadata": {},
   "outputs": [],
   "source": [
    "from scipy.optimize import curve_fit\n",
    "\n",
    "def func(x, M_star, alpha, phi):\n",
    "    return 0.4*np.log(10)*phi*10**(-0.4*(1+alpha)*(x-M_star))*np.exp(-1*(10)**(-0.4*(x-M_star)))"
   ]
  },
  {
   "cell_type": "code",
   "execution_count": null,
   "id": "4ba0077e",
   "metadata": {},
   "outputs": [
    {
     "name": "stderr",
     "output_type": "stream",
     "text": [
      "/tmp/ipykernel_7260/1278976137.py:4: RuntimeWarning: overflow encountered in power\n",
      "  return 0.4*np.log(10)*phi*10**(-0.4*(1+alpha)*(x-M_star))*np.exp(-1*(10)**(-0.4*(x-M_star)))\n"
     ]
    }
   ],
   "source": [
    "optedges = 0.5*(e[1:]+e[:-1])   #constructing bin from 1/Vmax\n",
    "optedges1 = 0.5*(edges[1:]+edges[:-1]) #absmag values for plot at the bottom\n",
    "coeffs, cov = curve_fit(func, optedges, c, p0=[-23, -1,0.0000001]) #fitting the Schechter function"
   ]
  },
  {
   "cell_type": "code",
   "execution_count": null,
   "id": "94e212b0",
   "metadata": {},
   "outputs": [
    {
     "data": {
      "text/plain": [
       "(array([-2.3e+01, -1.0e+00,  1.0e-07]),\n",
       " array([[ 3.85615040e+33, -3.58755054e+22,  8.62293597e+15],\n",
       "        [-3.58755054e+22,  5.74634585e+12,  9.61117401e+06],\n",
       "        [ 8.62293597e+15,  9.61117401e+06,  2.10875426e+01]]))"
      ]
     },
     "execution_count": 202,
     "metadata": {},
     "output_type": "execute_result"
    }
   ],
   "source": [
    "coeffs, cov     #checking values"
   ]
  },
  {
   "cell_type": "code",
   "execution_count": 203,
   "id": "2a0eaaf6",
   "metadata": {},
   "outputs": [
    {
     "data": {
      "image/png": "[encoded data removed]",
      "text/plain": [
       "<Figure size 640x480 with 1 Axes>"
      ]
     },
     "metadata": {},
     "output_type": "display_data"
    }
   ],
   "source": [
    "fig, ax = plt.subplots()\n",
    "ax.plot(optedges1, func(optedges,*coeffs))\n",
    "ax.set_xlabel('Absolute Magnitude')\n",
    "ax.set_title('SDSS DR8 Schechter Fit')\n",
    "plt.show()"
   ]
  }
 ],
 "metadata": {
  "kernelspec": {
   "display_name": "base",
   "language": "python",
   "name": "python3"
  },
  "language_info": {
   "codemirror_mode": {
    "name": "ipython",
    "version": 3
   },
   "file_extension": ".py",
   "mimetype": "text/x-python",
   "name": "python",
   "nbconvert_exporter": "python",
   "pygments_lexer": "ipython3",
   "version": "3.10.14"
  }
 },
 "nbformat": 4,
 "nbformat_minor": 5
}
