{
 "cells": [
  {
   "cell_type": "code",
   "execution_count": 251,
   "id": "5edcfb94",
   "metadata": {},
   "outputs": [],
   "source": [
    "import scipy as sp\n",
    "import numpy as np\n",
    "import matplotlib.pyplot as plt\n",
    "import astropy as ap\n",
    "import pandas as pd\n",
    "import astropy.cosmology as apc\n",
    "import astropy.units as u\n",
    "from astropy.cosmology import FlatLambdaCDM\n",
    "\n",
    "cosmo = FlatLambdaCDM(H0=100, Om0=0.3, Tcmb0=2.725) #std cosmo for that analysis"
   ]
  },
  {
   "cell_type": "markdown",
   "id": "cf4cf910",
   "metadata": {},
   "source": [
    "Data loading"
   ]
  },
  {
   "cell_type": "code",
   "execution_count": 252,
   "id": "837936ae",
   "metadata": {},
   "outputs": [],
   "source": [
    "dfres = pd.read_csv('SDSS_DR8-test_results-w_size.csv')"
   ]
  },
  {
   "cell_type": "code",
   "execution_count": 253,
   "id": "4e794483",
   "metadata": {},
   "outputs": [],
   "source": [
    "dfsch = dfres[dfres['M_prodK_r'] < 30]\n",
    "eventno = len(dfsch)"
   ]
  },
  {
   "cell_type": "code",
   "execution_count": null,
   "id": "e12fee74",
   "metadata": {},
   "outputs": [],
   "source": [
    "dfsch.sort_values(by='M_prodK_r',kind='mergesort',ignore_index=True,inplace=True,ascending=True)        # sorting to make it easier to keep the ordering of absmag values accordingly with Vmax (more visual than reasonable)"
   ]
  },
  {
   "cell_type": "code",
   "execution_count": 255,
   "id": "96a6da9c",
   "metadata": {},
   "outputs": [
    {
     "data": {
      "text/html": [
       "<div>\n",
       "<style scoped>\n",
       "    .dataframe tbody tr th:only-of-type {\n",
       "        vertical-align: middle;\n",
       "    }\n",
       "\n",
       "    .dataframe tbody tr th {\n",
       "        vertical-align: top;\n",
       "    }\n",
       "\n",
       "    .dataframe thead th {\n",
       "        text-align: right;\n",
       "    }\n",
       "</style>\n",
       "<table border=\"1\" class=\"dataframe\">\n",
       "  <thead>\n",
       "    <tr style=\"text-align: right;\">\n",
       "      <th></th>\n",
       "      <th>M_prodK_u</th>\n",
       "      <th>M_prodK_g</th>\n",
       "      <th>M_prodK_r</th>\n",
       "      <th>M_prodK_i</th>\n",
       "      <th>M_prodK_z</th>\n",
       "      <th>M_prodYC_u</th>\n",
       "      <th>M_prodYC_g</th>\n",
       "      <th>M_prodYC_r</th>\n",
       "      <th>M_prodYC_i</th>\n",
       "      <th>M_prodYC_z</th>\n",
       "      <th>M_prod_err_u</th>\n",
       "      <th>M_prod_err_g</th>\n",
       "      <th>M_prod_err_r</th>\n",
       "      <th>M_prod_err_i</th>\n",
       "      <th>M_prod_err_z</th>\n",
       "      <th>size_deg^2_u</th>\n",
       "      <th>size_deg^2_g</th>\n",
       "      <th>size_deg^2_r</th>\n",
       "      <th>size_deg^2_i</th>\n",
       "      <th>size_deg^2_z</th>\n",
       "    </tr>\n",
       "  </thead>\n",
       "  <tbody>\n",
       "    <tr>\n",
       "      <th>0</th>\n",
       "      <td>-21.584795</td>\n",
       "      <td>-21.701984</td>\n",
       "      <td>-22.927643</td>\n",
       "      <td>-23.354334</td>\n",
       "      <td>-23.769768</td>\n",
       "      <td>-21.584794</td>\n",
       "      <td>-21.701987</td>\n",
       "      <td>-22.927640</td>\n",
       "      <td>-23.354334</td>\n",
       "      <td>-23.769768</td>\n",
       "      <td>0.279381</td>\n",
       "      <td>0.124318</td>\n",
       "      <td>0.035295</td>\n",
       "      <td>0.030716</td>\n",
       "      <td>0.084684</td>\n",
       "      <td>6.020639e-05</td>\n",
       "      <td>0.000002</td>\n",
       "      <td>0.000003</td>\n",
       "      <td>0.000003</td>\n",
       "      <td>0.000018</td>\n",
       "    </tr>\n",
       "    <tr>\n",
       "      <th>1</th>\n",
       "      <td>-19.826418</td>\n",
       "      <td>-21.909708</td>\n",
       "      <td>-22.879236</td>\n",
       "      <td>-23.268957</td>\n",
       "      <td>-23.576750</td>\n",
       "      <td>-19.826420</td>\n",
       "      <td>-21.909707</td>\n",
       "      <td>-22.879235</td>\n",
       "      <td>-23.268956</td>\n",
       "      <td>-23.576750</td>\n",
       "      <td>0.513496</td>\n",
       "      <td>0.028503</td>\n",
       "      <td>0.015636</td>\n",
       "      <td>0.016625</td>\n",
       "      <td>0.036333</td>\n",
       "      <td>4.838399e-06</td>\n",
       "      <td>0.000007</td>\n",
       "      <td>0.000006</td>\n",
       "      <td>0.000007</td>\n",
       "      <td>0.000004</td>\n",
       "    </tr>\n",
       "    <tr>\n",
       "      <th>2</th>\n",
       "      <td>-19.778080</td>\n",
       "      <td>-22.014616</td>\n",
       "      <td>-22.851082</td>\n",
       "      <td>-23.235022</td>\n",
       "      <td>-23.498747</td>\n",
       "      <td>-19.778081</td>\n",
       "      <td>-22.014616</td>\n",
       "      <td>-22.851083</td>\n",
       "      <td>-23.235022</td>\n",
       "      <td>-23.498747</td>\n",
       "      <td>0.228059</td>\n",
       "      <td>0.015560</td>\n",
       "      <td>0.012247</td>\n",
       "      <td>0.011561</td>\n",
       "      <td>0.021370</td>\n",
       "      <td>9.939531e-06</td>\n",
       "      <td>0.000018</td>\n",
       "      <td>0.000017</td>\n",
       "      <td>0.000016</td>\n",
       "      <td>0.000012</td>\n",
       "    </tr>\n",
       "    <tr>\n",
       "      <th>3</th>\n",
       "      <td>-21.049469</td>\n",
       "      <td>-21.766911</td>\n",
       "      <td>-22.810181</td>\n",
       "      <td>-23.141958</td>\n",
       "      <td>-23.389742</td>\n",
       "      <td>-21.049469</td>\n",
       "      <td>-21.766910</td>\n",
       "      <td>-22.810181</td>\n",
       "      <td>-23.141959</td>\n",
       "      <td>-23.389742</td>\n",
       "      <td>0.351351</td>\n",
       "      <td>0.076139</td>\n",
       "      <td>0.024182</td>\n",
       "      <td>0.026102</td>\n",
       "      <td>0.053465</td>\n",
       "      <td>6.805659e-07</td>\n",
       "      <td>0.000003</td>\n",
       "      <td>0.000003</td>\n",
       "      <td>0.000002</td>\n",
       "      <td>0.000002</td>\n",
       "    </tr>\n",
       "    <tr>\n",
       "      <th>4</th>\n",
       "      <td>-21.272236</td>\n",
       "      <td>-21.961872</td>\n",
       "      <td>-22.783274</td>\n",
       "      <td>-23.150677</td>\n",
       "      <td>-23.291576</td>\n",
       "      <td>-21.272235</td>\n",
       "      <td>-21.961873</td>\n",
       "      <td>-22.783273</td>\n",
       "      <td>-23.150674</td>\n",
       "      <td>-23.291575</td>\n",
       "      <td>0.360259</td>\n",
       "      <td>0.059360</td>\n",
       "      <td>0.035029</td>\n",
       "      <td>0.030227</td>\n",
       "      <td>0.059407</td>\n",
       "      <td>6.009092e-05</td>\n",
       "      <td>0.000003</td>\n",
       "      <td>0.000002</td>\n",
       "      <td>0.000002</td>\n",
       "      <td>0.000002</td>\n",
       "    </tr>\n",
       "    <tr>\n",
       "      <th>...</th>\n",
       "      <td>...</td>\n",
       "      <td>...</td>\n",
       "      <td>...</td>\n",
       "      <td>...</td>\n",
       "      <td>...</td>\n",
       "      <td>...</td>\n",
       "      <td>...</td>\n",
       "      <td>...</td>\n",
       "      <td>...</td>\n",
       "      <td>...</td>\n",
       "      <td>...</td>\n",
       "      <td>...</td>\n",
       "      <td>...</td>\n",
       "      <td>...</td>\n",
       "      <td>...</td>\n",
       "      <td>...</td>\n",
       "      <td>...</td>\n",
       "      <td>...</td>\n",
       "      <td>...</td>\n",
       "      <td>...</td>\n",
       "    </tr>\n",
       "    <tr>\n",
       "      <th>983</th>\n",
       "      <td>-14.220031</td>\n",
       "      <td>-14.970018</td>\n",
       "      <td>-14.875952</td>\n",
       "      <td>-14.284077</td>\n",
       "      <td>-14.003883</td>\n",
       "      <td>-14.220031</td>\n",
       "      <td>-14.970018</td>\n",
       "      <td>-14.875951</td>\n",
       "      <td>-14.284076</td>\n",
       "      <td>-14.003885</td>\n",
       "      <td>0.024542</td>\n",
       "      <td>0.032935</td>\n",
       "      <td>0.026099</td>\n",
       "      <td>0.032952</td>\n",
       "      <td>0.084401</td>\n",
       "      <td>3.376080e-06</td>\n",
       "      <td>0.000003</td>\n",
       "      <td>0.000005</td>\n",
       "      <td>0.000006</td>\n",
       "      <td>0.000003</td>\n",
       "    </tr>\n",
       "    <tr>\n",
       "      <th>984</th>\n",
       "      <td>-13.002986</td>\n",
       "      <td>-14.265306</td>\n",
       "      <td>-14.615516</td>\n",
       "      <td>-14.537563</td>\n",
       "      <td>-14.329227</td>\n",
       "      <td>-13.002986</td>\n",
       "      <td>-14.265306</td>\n",
       "      <td>-14.615515</td>\n",
       "      <td>-14.537563</td>\n",
       "      <td>-14.329228</td>\n",
       "      <td>0.069966</td>\n",
       "      <td>0.011628</td>\n",
       "      <td>0.009519</td>\n",
       "      <td>0.028931</td>\n",
       "      <td>0.096590</td>\n",
       "      <td>1.478183e-04</td>\n",
       "      <td>0.000025</td>\n",
       "      <td>0.000022</td>\n",
       "      <td>0.000020</td>\n",
       "      <td>0.000013</td>\n",
       "    </tr>\n",
       "    <tr>\n",
       "      <th>985</th>\n",
       "      <td>-12.586421</td>\n",
       "      <td>-13.830516</td>\n",
       "      <td>-14.332994</td>\n",
       "      <td>-14.561669</td>\n",
       "      <td>-14.787351</td>\n",
       "      <td>-12.586420</td>\n",
       "      <td>-13.830515</td>\n",
       "      <td>-14.332994</td>\n",
       "      <td>-14.561669</td>\n",
       "      <td>-14.787350</td>\n",
       "      <td>0.068978</td>\n",
       "      <td>0.011530</td>\n",
       "      <td>0.010452</td>\n",
       "      <td>0.013545</td>\n",
       "      <td>0.037564</td>\n",
       "      <td>1.103049e-06</td>\n",
       "      <td>0.000001</td>\n",
       "      <td>0.000002</td>\n",
       "      <td>0.000002</td>\n",
       "      <td>0.000048</td>\n",
       "    </tr>\n",
       "    <tr>\n",
       "      <th>986</th>\n",
       "      <td>-11.431541</td>\n",
       "      <td>-13.028088</td>\n",
       "      <td>-13.510315</td>\n",
       "      <td>-13.748533</td>\n",
       "      <td>-14.004622</td>\n",
       "      <td>-11.431540</td>\n",
       "      <td>-13.028088</td>\n",
       "      <td>-13.510314</td>\n",
       "      <td>-13.748533</td>\n",
       "      <td>-14.004623</td>\n",
       "      <td>0.296464</td>\n",
       "      <td>0.034407</td>\n",
       "      <td>0.037153</td>\n",
       "      <td>0.041042</td>\n",
       "      <td>0.103052</td>\n",
       "      <td>9.466404e-07</td>\n",
       "      <td>0.000002</td>\n",
       "      <td>0.000002</td>\n",
       "      <td>0.000002</td>\n",
       "      <td>0.000014</td>\n",
       "    </tr>\n",
       "    <tr>\n",
       "      <th>987</th>\n",
       "      <td>-12.191262</td>\n",
       "      <td>-11.513859</td>\n",
       "      <td>-12.288171</td>\n",
       "      <td>-12.567155</td>\n",
       "      <td>-14.080919</td>\n",
       "      <td>-12.191262</td>\n",
       "      <td>-11.513859</td>\n",
       "      <td>-12.288171</td>\n",
       "      <td>-12.567156</td>\n",
       "      <td>-14.080920</td>\n",
       "      <td>0.387407</td>\n",
       "      <td>0.348455</td>\n",
       "      <td>0.168103</td>\n",
       "      <td>0.321299</td>\n",
       "      <td>0.338211</td>\n",
       "      <td>1.594303e-06</td>\n",
       "      <td>0.000001</td>\n",
       "      <td>0.000148</td>\n",
       "      <td>0.000003</td>\n",
       "      <td>0.000148</td>\n",
       "    </tr>\n",
       "  </tbody>\n",
       "</table>\n",
       "<p>988 rows × 20 columns</p>\n",
       "</div>"
      ],
      "text/plain": [
       "     M_prodK_u  M_prodK_g  M_prodK_r  M_prodK_i  M_prodK_z  M_prodYC_u  \\\n",
       "0   -21.584795 -21.701984 -22.927643 -23.354334 -23.769768  -21.584794   \n",
       "1   -19.826418 -21.909708 -22.879236 -23.268957 -23.576750  -19.826420   \n",
       "2   -19.778080 -22.014616 -22.851082 -23.235022 -23.498747  -19.778081   \n",
       "3   -21.049469 -21.766911 -22.810181 -23.141958 -23.389742  -21.049469   \n",
       "4   -21.272236 -21.961872 -22.783274 -23.150677 -23.291576  -21.272235   \n",
       "..         ...        ...        ...        ...        ...         ...   \n",
       "983 -14.220031 -14.970018 -14.875952 -14.284077 -14.003883  -14.220031   \n",
       "984 -13.002986 -14.265306 -14.615516 -14.537563 -14.329227  -13.002986   \n",
       "985 -12.586421 -13.830516 -14.332994 -14.561669 -14.787351  -12.586420   \n",
       "986 -11.431541 -13.028088 -13.510315 -13.748533 -14.004622  -11.431540   \n",
       "987 -12.191262 -11.513859 -12.288171 -12.567155 -14.080919  -12.191262   \n",
       "\n",
       "     M_prodYC_g  M_prodYC_r  M_prodYC_i  M_prodYC_z  M_prod_err_u  \\\n",
       "0    -21.701987  -22.927640  -23.354334  -23.769768      0.279381   \n",
       "1    -21.909707  -22.879235  -23.268956  -23.576750      0.513496   \n",
       "2    -22.014616  -22.851083  -23.235022  -23.498747      0.228059   \n",
       "3    -21.766910  -22.810181  -23.141959  -23.389742      0.351351   \n",
       "4    -21.961873  -22.783273  -23.150674  -23.291575      0.360259   \n",
       "..          ...         ...         ...         ...           ...   \n",
       "983  -14.970018  -14.875951  -14.284076  -14.003885      0.024542   \n",
       "984  -14.265306  -14.615515  -14.537563  -14.329228      0.069966   \n",
       "985  -13.830515  -14.332994  -14.561669  -14.787350      0.068978   \n",
       "986  -13.028088  -13.510314  -13.748533  -14.004623      0.296464   \n",
       "987  -11.513859  -12.288171  -12.567156  -14.080920      0.387407   \n",
       "\n",
       "     M_prod_err_g  M_prod_err_r  M_prod_err_i  M_prod_err_z  size_deg^2_u  \\\n",
       "0        0.124318      0.035295      0.030716      0.084684  6.020639e-05   \n",
       "1        0.028503      0.015636      0.016625      0.036333  4.838399e-06   \n",
       "2        0.015560      0.012247      0.011561      0.021370  9.939531e-06   \n",
       "3        0.076139      0.024182      0.026102      0.053465  6.805659e-07   \n",
       "4        0.059360      0.035029      0.030227      0.059407  6.009092e-05   \n",
       "..            ...           ...           ...           ...           ...   \n",
       "983      0.032935      0.026099      0.032952      0.084401  3.376080e-06   \n",
       "984      0.011628      0.009519      0.028931      0.096590  1.478183e-04   \n",
       "985      0.011530      0.010452      0.013545      0.037564  1.103049e-06   \n",
       "986      0.034407      0.037153      0.041042      0.103052  9.466404e-07   \n",
       "987      0.348455      0.168103      0.321299      0.338211  1.594303e-06   \n",
       "\n",
       "     size_deg^2_g  size_deg^2_r  size_deg^2_i  size_deg^2_z  \n",
       "0        0.000002      0.000003      0.000003      0.000018  \n",
       "1        0.000007      0.000006      0.000007      0.000004  \n",
       "2        0.000018      0.000017      0.000016      0.000012  \n",
       "3        0.000003      0.000003      0.000002      0.000002  \n",
       "4        0.000003      0.000002      0.000002      0.000002  \n",
       "..            ...           ...           ...           ...  \n",
       "983      0.000003      0.000005      0.000006      0.000003  \n",
       "984      0.000025      0.000022      0.000020      0.000013  \n",
       "985      0.000001      0.000002      0.000002      0.000048  \n",
       "986      0.000002      0.000002      0.000002      0.000014  \n",
       "987      0.000001      0.000148      0.000003      0.000148  \n",
       "\n",
       "[988 rows x 20 columns]"
      ]
     },
     "execution_count": 255,
     "metadata": {},
     "output_type": "execute_result"
    }
   ],
   "source": [
    "dfsch.iloc[:,9:]"
   ]
  },
  {
   "cell_type": "code",
   "execution_count": 256,
   "id": "2243ee70",
   "metadata": {},
   "outputs": [],
   "source": [
    "sch_c = 3*10**5 * u.km/u.s\n",
    "schMr = dfsch['M_prodK_r']\n",
    "schMr_l = schMr.min()\n",
    "schMr_u = schMr.max()\n",
    "\n",
    "sch_z = dfsch['redshift']\n",
    "sch_z_max = sch_z.max()\n",
    "\n",
    "sch_L = np.exp(-0.4*schMr)\n",
    "#E_func = np.sqrt(cosmo.Ode0 + cosmo.Ok0 * (1+sch_z)**2 + cosmo.Om0 * (1+sch_z)**3)\n",
    "sch_dl = cosmo.luminosity_distance(sch_z)"
   ]
  },
  {
   "cell_type": "markdown",
   "id": "5630b7f9",
   "metadata": {},
   "source": [
    "Visualizing absmag values"
   ]
  },
  {
   "cell_type": "code",
   "execution_count": 257,
   "id": "fae662d0",
   "metadata": {},
   "outputs": [
    {
     "data": {
      "image/png": "[encoded data removed]",
      "text/plain": [
       "<Figure size 640x480 with 1 Axes>"
      ]
     },
     "metadata": {},
     "output_type": "display_data"
    }
   ],
   "source": [
    "histM = plt.hist(schMr,bins=np.linspace(-30,-10,120))"
   ]
  },
  {
   "cell_type": "markdown",
   "id": "c8d36438",
   "metadata": {},
   "source": [
    "Defining the the comoving volume function (Eales 1993)"
   ]
  },
  {
   "cell_type": "code",
   "execution_count": 258,
   "id": "10d320f2",
   "metadata": {},
   "outputs": [],
   "source": [
    "def V(x):\n",
    "    return ((1+x)**2 * np.sqrt(cosmo.Ode0 + cosmo.Om0 * (1+x)**3))**(-1)\n",
    "\n",
    "integ,_ = sp.integrate.quad(lambda x:V(x), 0,sch_z_max)\n",
    "V_max = np.array(9583*sch_c*sch_dl**2/cosmo.H0 * integ /u.Mpc**3)   # defining Vmax"
   ]
  },
  {
   "cell_type": "code",
   "execution_count": null,
   "id": "5a911d53",
   "metadata": {},
   "outputs": [
    {
     "data": {
      "text/plain": [
       "<Axes: >"
      ]
     },
     "execution_count": 259,
     "metadata": {},
     "output_type": "execute_result"
    },
    {
     "data": {
      "image/png": "[encoded data removed]",
      "text/plain": [
       "<Figure size 640x480 with 1 Axes>"
      ]
     },
     "metadata": {},
     "output_type": "display_data"
    }
   ],
   "source": [
    "counts,edges = np.histogram(schMr, bins=int(np.sqrt(len(schMr)))) # binning the absolute mags\n",
    "optedges = 0.5*(edges[1:]+edges[:-1])\n",
    "s=pd.Series(counts,index=optedges)\n",
    "s.plot()"
   ]
  },
  {
   "cell_type": "code",
   "execution_count": null,
   "id": "cd6ba998",
   "metadata": {},
   "outputs": [],
   "source": [
    "sumIV_max_binned = np.zeros(len(counts))    # 1/Vmax summation based on the absmag bins\n",
    "\n",
    "prevEnd = 0\n",
    "\n",
    "for idx, count in enumerate(counts):\n",
    "    V_max_for_count = V_max[prevEnd:prevEnd+count]\n",
    "    sumIV_max_binned[idx] = np.sum(1/V_max_for_count)\n",
    "\n",
    "    prevEnd = prevEnd + count"
   ]
  },
  {
   "cell_type": "code",
   "execution_count": 288,
   "id": "ff332e0b",
   "metadata": {},
   "outputs": [
    {
     "data": {
      "image/png": "[encoded data removed]",
      "text/plain": [
       "<Figure size 640x480 with 1 Axes>"
      ]
     },
     "metadata": {},
     "output_type": "display_data"
    }
   ],
   "source": [
    "plt.plot(optedges, sumIV_max_binned)\n",
    "plt.yscale('log')"
   ]
  },
  {
   "cell_type": "markdown",
   "id": "29b4834b",
   "metadata": {},
   "source": [
    "Defining the Schechter function"
   ]
  },
  {
   "cell_type": "code",
   "execution_count": null,
   "id": "20745e71",
   "metadata": {},
   "outputs": [],
   "source": [
    "from scipy.optimize import curve_fit\n",
    "\n",
    "#single\n",
    "def func(x, M_star, alpha, phi):\n",
    "    return 0.4*np.log(10)*phi*10**(-0.4*(1+alpha)*(x-M_star))*np.exp(-1*(10)**(-0.4*(x-M_star)))\n",
    "\n",
    "#double\n",
    "def doubfunc(x, M_star, alpha1, phi1, alpha2, phi2):\n",
    "    return 0.4*np.log(10)*(phi1*10**(-0.4*(1+alpha1)*(x-M_star))+phi2*10**(-0.4*(1+alpha2)*(x-M_star)))*np.exp(-1*(10)**(-0.4*(x-M_star)))"
   ]
  },
  {
   "cell_type": "code",
   "execution_count": null,
   "id": "4ba0077e",
   "metadata": {},
   "outputs": [
    {
     "data": {
      "text/plain": [
       "(array([-2.07279726e+01, -9.73056219e-01,  4.99929885e-10]),\n",
       " array([[1.23002376e+00, 7.16708952e-02, 1.85335846e-10],\n",
       "        [7.16708952e-02, 9.65468627e-03, 2.22113270e-11],\n",
       "        [1.85335846e-10, 2.22113270e-11, 5.75530172e-20]]))"
      ]
     },
     "execution_count": 302,
     "metadata": {},
     "output_type": "execute_result"
    }
   ],
   "source": [
    "#fit_sel = (optedges > -40) & (optedges < -9)       # NYU-VAGC masking for missing galaxies\n",
    "coeffs, cov = curve_fit(func, optedges, sumIV_max_binned, p0=[-22,-2,1e-6]) #fitting the Schechter function\n",
    "coeffs, cov     #checking values"
   ]
  },
  {
   "cell_type": "code",
   "execution_count": 303,
   "id": "2a0eaaf6",
   "metadata": {},
   "outputs": [
    {
     "data": {
      "image/png": "[encoded data removed]",
      "text/plain": [
       "<Figure size 1000x800 with 1 Axes>"
      ]
     },
     "metadata": {},
     "output_type": "display_data"
    }
   ],
   "source": [
    "fig, ax = plt.subplots()\n",
    "ax.plot(optedges, func(optedges,*coeffs))\n",
    "ax.set_xlabel('Absolute Magnitude')\n",
    "ax.set_title('Schechter Function for SDSS DR8')\n",
    "ax.set_yscale('log')\n",
    "ax.set_xscale('linear')\n",
    "#ax.set_xbound(-22.5,-17)           #enable to see a close-up\n",
    "#ax.set_ybound(1e-12,1e-9)\n",
    "fig.set_size_inches(10,8)\n",
    "plt.show()"
   ]
  }
 ],
 "metadata": {
  "kernelspec": {
   "display_name": "base",
   "language": "python",
   "name": "python3"
  },
  "language_info": {
   "codemirror_mode": {
    "name": "ipython",
    "version": 3
   },
   "file_extension": ".py",
   "mimetype": "text/x-python",
   "name": "python",
   "nbconvert_exporter": "python",
   "pygments_lexer": "ipython3",
   "version": "3.10.14"
  }
 },
 "nbformat": 4,
 "nbformat_minor": 5
}
